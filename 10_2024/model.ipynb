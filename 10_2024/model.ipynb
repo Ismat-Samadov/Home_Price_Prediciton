{
 "cells": [
  {
   "cell_type": "code",
   "execution_count": null,
   "metadata": {},
   "outputs": [],
   "source": []
  },
  {
   "cell_type": "code",
   "execution_count": null,
   "metadata": {},
   "outputs": [],
   "source": []
  },
  {
   "cell_type": "code",
   "execution_count": null,
   "metadata": {},
   "outputs": [
    {
     "name": "stderr",
     "output_type": "stream",
     "text": [
      "<>:9: SyntaxWarning: invalid escape sequence '\\.'\n",
      "<>:9: SyntaxWarning: invalid escape sequence '\\.'\n",
      "/var/folders/pc/6rmkz3b536l1k66dbrhqbl2r0000gn/T/ipykernel_33327/1443912187.py:9: SyntaxWarning: invalid escape sequence '\\.'\n",
      "  frames['is_near_metro'] = (frames['description'].str.contains('m\\.', case=False) | frames['description'].str.contains('metro',case=False)).astype(int)\n"
     ]
    }
   ],
   "source": [
    "import re\n",
    "import pandas as pd\n",
    "data_1 = pd.read_csv('data/bina_az_02102023.csv')\n",
    "data_2 = pd.read_csv('data/bina_az_new.csv')\n",
    "data_3 = pd.read_csv('data/bina_az_old.csv')\n",
    "data_4 = pd.read_csv('data/bina_az_25102023.csv')\n",
    "data_5 = pd.read_csv('data/bina_az_01112023.csv')\n",
    "frames = pd.concat([data_1, data_2, data_3,data_4,data_5]).drop_duplicates().dropna()\n",
    "frames['is_near_metro'] = (frames['description'].str.contains('m\\.', case=False) | frames['description'].str.contains('metro',case=False)).astype(int)\n",
    "frames = frames[frames['seller_type'] != 'seller_type']\n",
    "frames[['flat', 'total_flat']] = frames['flat_number'].str.split(' / ', expand=True).astype(int)\n",
    "remove_non_numeric_and_convert_to_float = lambda value: float(re.sub(r'[^\\d.]', '', value)) if value else None\n",
    "frames['area_converted'] = frames['area'].apply(remove_non_numeric_and_convert_to_float)\n",
    "frames['room_count'] = frames['room_count'].astype(int)\n",
    "frames['documents_encoded'] = frames['documents'].map({'var': 1, 'yoxdur': 0})\n",
    "frames['is_repair_encoded'] = frames['is_repair'].map({'var': 1, 'yoxdur': 0})\n",
    "frames['seller_type_encoded'] = frames['seller_type'].map({'vasitəçi (agent)': 0, 'mülkiyyətçi': 1})\n",
    "frames['category_encoded'] = frames['category'].map({'Yeni tikili': 0, 'Köhnə tikili': 1})\n",
    "frames['price'] = frames['price'].str.replace(' ', '').astype(int)\n",
    "frames = frames[frames['price']>5000]\n",
    "frames = frames[['is_near_metro', \n",
    "                 'seller_type_encoded', \n",
    "                 'flat', \n",
    "                 'total_flat', \n",
    "                 'room_count',\n",
    "                 'area_converted', \n",
    "                 'category_encoded',\n",
    "                 'documents_encoded',\n",
    "                 'is_repair_encoded', \n",
    "                 'price']].drop_duplicates(ignore_index=True)\n",
    "# frames.to_excel('frames.xlsx', index=False)"
   ]
  },
  {
   "cell_type": "code",
   "execution_count": null,
   "metadata": {},
   "outputs": [],
   "source": []
  },
  {
   "cell_type": "code",
   "execution_count": null,
   "metadata": {},
   "outputs": [],
   "source": []
  },
  {
   "cell_type": "code",
   "execution_count": null,
   "metadata": {},
   "outputs": [],
   "source": []
  }
 ],
 "metadata": {
  "kernelspec": {
   "display_name": ".venv",
   "language": "python",
   "name": "python3"
  },
  "language_info": {
   "codemirror_mode": {
    "name": "ipython",
    "version": 3
   },
   "file_extension": ".py",
   "mimetype": "text/x-python",
   "name": "python",
   "nbconvert_exporter": "python",
   "pygments_lexer": "ipython3",
   "version": "3.12.7"
  }
 },
 "nbformat": 4,
 "nbformat_minor": 2
}
